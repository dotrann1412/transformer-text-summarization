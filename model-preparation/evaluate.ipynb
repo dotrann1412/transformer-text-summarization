{
 "cells": [
  {
   "cell_type": "code",
   "execution_count": null,
   "metadata": {},
   "outputs": [],
   "source": [
    "! pip install rouge_score"
   ]
  },
  {
   "cell_type": "code",
   "execution_count": null,
   "metadata": {},
   "outputs": [],
   "source": [
    "from rouge_score import rouge_scorer\n",
    "import json"
   ]
  },
  {
   "cell_type": "code",
   "execution_count": null,
   "metadata": {},
   "outputs": [],
   "source": [
    "keys = ['rouge1', 'rougeL', 'rouge2', 'rougeLsum']\n",
    "scorer = rouge_scorer.RougeScorer(keys, use_stemmer=True)"
   ]
  },
  {
   "cell_type": "code",
   "execution_count": null,
   "metadata": {},
   "outputs": [],
   "source": [
    "# Public test set predictions: \n",
    "with open('/kaggle/input/results-t5-small-summarization/predictions.json', 'r') as fp:\n",
    "    data = json.load(fp)"
   ]
  },
  {
   "cell_type": "code",
   "execution_count": null,
   "metadata": {},
   "outputs": [],
   "source": [
    "evaluation_results = {\n",
    "    key: {\n",
    "        'precision': 0,\n",
    "        'recall': 0,\n",
    "        'fmeasure': 0\n",
    "    } for key in keys\n",
    "}"
   ]
  },
  {
   "cell_type": "code",
   "execution_count": null,
   "metadata": {},
   "outputs": [],
   "source": [
    "for item in data:\n",
    "    score = scorer.score(item['label'], item['output'])\n",
    "    for key in keys:\n",
    "        evaluation_results[key]['precision'] += score[key].precision\n",
    "        evaluation_results[key]['recall'] += score[key].recall\n",
    "        evaluation_results[key]['fmeasure'] += score[key].fmeasure"
   ]
  },
  {
   "cell_type": "code",
   "execution_count": null,
   "metadata": {},
   "outputs": [],
   "source": [
    "# calculate average scores\n",
    "for key in keys:\n",
    "    evaluation_results[key]['precision'] /= len(data)\n",
    "    evaluation_results[key]['recall'] /= len(data)\n",
    "    evaluation_results[key]['fmeasure'] /= len(data)"
   ]
  },
  {
   "attachments": {},
   "cell_type": "markdown",
   "metadata": {},
   "source": [
    "#### Here is sample output of the model evaluation\n"
   ]
  }
 ],
 "metadata": {
  "language_info": {
   "name": "python"
  },
  "orig_nbformat": 4
 },
 "nbformat": 4,
 "nbformat_minor": 2
}
